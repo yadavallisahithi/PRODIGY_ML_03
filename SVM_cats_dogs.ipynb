{
 "cells": [
  {
   "cell_type": "code",
   "execution_count": 1,
   "id": "42de181a-f187-461c-8ebf-7e9898a0de7f",
   "metadata": {},
   "outputs": [],
   "source": [
    "import os\n",
    "import numpy as np\n",
    "from sklearn.svm import SVC\n",
    "from sklearn.metrics import classification_report, confusion_matrix\n",
    "import matplotlib.pyplot as plt\n",
    "from tqdm import tqdm\n",
    "import joblib\n",
    "from sklearn.model_selection import GridSearchCV\n",
    "import cv2\n",
    "import seaborn as sns\n",
    "import time\n",
    "from sklearn.decomposition import PCA\n",
    "from sklearn.pipeline import Pipeline\n",
    "from sklearn.model_selection import train_test_split"
   ]
  },
  {
   "cell_type": "code",
   "execution_count": 2,
   "id": "144ffb61-d631-4827-b8f4-16ce7e6973db",
   "metadata": {},
   "outputs": [],
   "source": [
    "folder_path = f\"Dataset/\"\n",
    "os.makedirs(folder_path, exist_ok=True)\n",
    "\n",
    "confusion_image_path = os.path.join(folder_path, 'confusion matrix.png')\n",
    "classification_file_path = os.path.join(folder_path, 'classification_report.txt')\n",
    "model_file_path = os.path.join(folder_path, \"svm_model.pkl\")\n",
    "\n",
    "dataset_dir = \"Dataset/\"\n",
    "train_dir = os.path.join(dataset_dir, \"train\")\n",
    "test_dir = os.path.join(dataset_dir, \"test1\")\n",
    "\n"
   ]
  },
  {
   "cell_type": "code",
   "execution_count": 3,
   "id": "234b4192-2201-4039-9877-2d8b5db04215",
   "metadata": {},
   "outputs": [
    {
     "name": "stderr",
     "output_type": "stream",
     "text": [
      "Processing Train Images: 100%|████████████| 25000/25000 [05:46<00:00, 72.11it/s]\n"
     ]
    }
   ],
   "source": [
    "train_images = os.listdir(train_dir)\n",
    "features = []\n",
    "labels = []\n",
    "image_size = (50, 50)\n",
    "\n",
    "for image in tqdm(train_images, desc=\"Processing Train Images\"):\n",
    "    if image[0:3] == 'cat' :\n",
    "        label = 0\n",
    "    else :\n",
    "        label = 1\n",
    "    image_read = cv2.imread(train_dir+\"/\"+image)\n",
    "    image_resized = cv2.resize(image_read, image_size)\n",
    "    image_normalized = image_resized / 255.0\n",
    "    image_flatten = image_normalized.flatten()\n",
    "    features.append(image_flatten)\n",
    "    labels.append(label)\n"
   ]
  },
  {
   "cell_type": "code",
   "execution_count": 4,
   "id": "52000794-e32b-4dd3-8362-4fe656a74a71",
   "metadata": {},
   "outputs": [],
   "source": [
    "del train_images\n"
   ]
  },
  {
   "cell_type": "code",
   "execution_count": 5,
   "id": "6d6657bf-5fad-456a-801f-ad2571ad1b2b",
   "metadata": {},
   "outputs": [],
   "source": [
    "features = np.asarray(features)\n",
    "labels = np.asarray(labels)\n",
    "\n",
    "X_train, X_test, y_train, y_test = train_test_split(features, labels, test_size=0.2, shuffle=True, random_state=42)"
   ]
  },
  {
   "cell_type": "code",
   "execution_count": 6,
   "id": "7ab27514-5d58-4bb2-b72c-9058385480fe",
   "metadata": {},
   "outputs": [],
   "source": [
    "del features\n",
    "del labels\n"
   ]
  },
  {
   "cell_type": "code",
   "execution_count": 7,
   "id": "aca96a63-dfc6-4400-b252-fa23441d75cf",
   "metadata": {},
   "outputs": [],
   "source": [
    "n_components = 0.8\n",
    "pca = PCA(n_components=n_components)\n",
    "svm = SVC()\n",
    "pca = PCA(n_components=n_components, random_state=42)\n",
    "pipeline = Pipeline([\n",
    "    ('pca', pca),\n",
    "    ('svm', svm)\n",
    "])\n"
   ]
  },
  {
   "cell_type": "code",
   "execution_count": 8,
   "id": "de467cd6-6b6a-45e6-8442-27e55c67da0c",
   "metadata": {},
   "outputs": [],
   "source": [
    "param_grid = {\n",
    "    'pca__n_components': [2, 1, 0.9, 0.8],\n",
    "    'svm__kernel': ['linear', 'rbf', 'poly', 'sigmoid'],\n",
    "}\n"
   ]
  },
  {
   "cell_type": "code",
   "execution_count": 9,
   "id": "a16065ea-8ea1-49c5-9959-2fdb8d99a672",
   "metadata": {},
   "outputs": [
    {
     "name": "stdout",
     "output_type": "stream",
     "text": [
      "Fitting 3 folds for each of 16 candidates, totalling 48 fits\n",
      "[CV 1/3] END pca__n_components=2, svm__kernel=linear;, score=0.529 total time=  15.0s\n",
      "[CV 2/3] END pca__n_components=2, svm__kernel=linear;, score=0.522 total time=  13.9s\n",
      "[CV 3/3] END pca__n_components=2, svm__kernel=linear;, score=0.539 total time=  14.5s\n",
      "[CV 1/3] END pca__n_components=2, svm__kernel=rbf;, score=0.572 total time=  10.0s\n",
      "[CV 2/3] END pca__n_components=2, svm__kernel=rbf;, score=0.560 total time=  10.0s\n",
      "[CV 3/3] END pca__n_components=2, svm__kernel=rbf;, score=0.564 total time=   9.8s\n",
      "[CV 1/3] END pca__n_components=2, svm__kernel=poly;, score=0.494 total time=   8.9s\n",
      "[CV 2/3] END pca__n_components=2, svm__kernel=poly;, score=0.492 total time=   8.8s\n",
      "[CV 3/3] END pca__n_components=2, svm__kernel=poly;, score=0.498 total time=   8.6s\n",
      "[CV 1/3] END pca__n_components=2, svm__kernel=sigmoid;, score=0.502 total time=   9.5s\n",
      "[CV 2/3] END pca__n_components=2, svm__kernel=sigmoid;, score=0.508 total time=   9.7s\n",
      "[CV 3/3] END pca__n_components=2, svm__kernel=sigmoid;, score=0.510 total time=  10.2s\n",
      "[CV 1/3] END pca__n_components=1, svm__kernel=linear;, score=0.521 total time=   9.9s\n",
      "[CV 2/3] END pca__n_components=1, svm__kernel=linear;, score=0.517 total time=   9.4s\n",
      "[CV 3/3] END pca__n_components=1, svm__kernel=linear;, score=0.518 total time=   9.7s\n",
      "[CV 1/3] END pca__n_components=1, svm__kernel=rbf;, score=0.527 total time=  10.0s\n",
      "[CV 2/3] END pca__n_components=1, svm__kernel=rbf;, score=0.527 total time=  10.5s\n",
      "[CV 3/3] END pca__n_components=1, svm__kernel=rbf;, score=0.527 total time=  10.3s\n",
      "[CV 1/3] END pca__n_components=1, svm__kernel=poly;, score=0.501 total time=   8.2s\n",
      "[CV 2/3] END pca__n_components=1, svm__kernel=poly;, score=0.496 total time=   8.2s\n",
      "[CV 3/3] END pca__n_components=1, svm__kernel=poly;, score=0.500 total time=   8.2s\n",
      "[CV 1/3] END pca__n_components=1, svm__kernel=sigmoid;, score=0.502 total time=   8.8s\n",
      "[CV 2/3] END pca__n_components=1, svm__kernel=sigmoid;, score=0.508 total time=   8.8s\n",
      "[CV 3/3] END pca__n_components=1, svm__kernel=sigmoid;, score=0.504 total time=   8.9s\n",
      "[CV 1/3] END pca__n_components=0.9, svm__kernel=linear;, score=0.602 total time=15.2min\n",
      "[CV 2/3] END pca__n_components=0.9, svm__kernel=linear;, score=0.613 total time=15.5min\n",
      "[CV 3/3] END pca__n_components=0.9, svm__kernel=linear;, score=0.610 total time=15.5min\n",
      "[CV 1/3] END pca__n_components=0.9, svm__kernel=rbf;, score=0.675 total time= 6.4min\n",
      "[CV 2/3] END pca__n_components=0.9, svm__kernel=rbf;, score=0.674 total time= 6.4min\n",
      "[CV 3/3] END pca__n_components=0.9, svm__kernel=rbf;, score=0.673 total time= 6.5min\n",
      "[CV 1/3] END pca__n_components=0.9, svm__kernel=poly;, score=0.612 total time= 6.4min\n",
      "[CV 2/3] END pca__n_components=0.9, svm__kernel=poly;, score=0.607 total time= 6.5min\n",
      "[CV 3/3] END pca__n_components=0.9, svm__kernel=poly;, score=0.600 total time= 6.5min\n",
      "[CV 1/3] END pca__n_components=0.9, svm__kernel=sigmoid;, score=0.518 total time= 6.1min\n",
      "[CV 2/3] END pca__n_components=0.9, svm__kernel=sigmoid;, score=0.530 total time= 6.2min\n",
      "[CV 3/3] END pca__n_components=0.9, svm__kernel=sigmoid;, score=0.524 total time= 6.1min\n",
      "[CV 1/3] END pca__n_components=0.8, svm__kernel=linear;, score=0.585 total time= 8.9min\n",
      "[CV 2/3] END pca__n_components=0.8, svm__kernel=linear;, score=0.591 total time= 8.8min\n",
      "[CV 3/3] END pca__n_components=0.8, svm__kernel=linear;, score=0.594 total time= 9.0min\n",
      "[CV 1/3] END pca__n_components=0.8, svm__kernel=rbf;, score=0.665 total time= 5.9min\n",
      "[CV 2/3] END pca__n_components=0.8, svm__kernel=rbf;, score=0.662 total time= 5.9min\n",
      "[CV 3/3] END pca__n_components=0.8, svm__kernel=rbf;, score=0.667 total time= 5.9min\n",
      "[CV 1/3] END pca__n_components=0.8, svm__kernel=poly;, score=0.595 total time= 5.8min\n",
      "[CV 2/3] END pca__n_components=0.8, svm__kernel=poly;, score=0.600 total time= 5.9min\n",
      "[CV 3/3] END pca__n_components=0.8, svm__kernel=poly;, score=0.593 total time= 5.9min\n",
      "[CV 1/3] END pca__n_components=0.8, svm__kernel=sigmoid;, score=0.516 total time= 5.8min\n",
      "[CV 2/3] END pca__n_components=0.8, svm__kernel=sigmoid;, score=0.525 total time= 5.8min\n",
      "[CV 3/3] END pca__n_components=0.8, svm__kernel=sigmoid;, score=0.521 total time= 5.8min\n"
     ]
    }
   ],
   "source": [
    "start_time = time.time()\n",
    "\n",
    "grid_search = GridSearchCV(pipeline, param_grid, cv=3, verbose=4)\n",
    "grid_search.fit(X_train, y_train)\n",
    "\n",
    "end_time = time.time()"
   ]
  },
  {
   "cell_type": "code",
   "execution_count": 10,
   "id": "4dd18f82-8cc8-4b95-8ab2-371a18506135",
   "metadata": {},
   "outputs": [],
   "source": [
    "del X_train\n",
    "del y_train\n"
   ]
  },
  {
   "cell_type": "code",
   "execution_count": 11,
   "id": "06e92bd5-fafc-46b0-be1c-a273a39259ec",
   "metadata": {},
   "outputs": [
    {
     "name": "stdout",
     "output_type": "stream",
     "text": [
      "Best Parameters:  {'pca__n_components': 0.9, 'svm__kernel': 'rbf'}\n",
      "Best Score:  0.673899930866043\n"
     ]
    }
   ],
   "source": [
    "best_pipeline = grid_search.best_estimator_\n",
    "best_params = grid_search.best_params_\n",
    "best_score = grid_search.best_score_\n",
    "\n",
    "print(\"Best Parameters: \", best_params)\n",
    "print(\"Best Score: \", best_score)"
   ]
  },
  {
   "cell_type": "code",
   "execution_count": 12,
   "id": "b3dac191-3086-4bdd-ab86-8de0b4726983",
   "metadata": {},
   "outputs": [
    {
     "name": "stdout",
     "output_type": "stream",
     "text": [
      "Accuracy: 0.6816\n"
     ]
    }
   ],
   "source": [
    "accuracy = best_pipeline.score(X_test, y_test)\n",
    "print(\"Accuracy:\", accuracy)"
   ]
  },
  {
   "cell_type": "code",
   "execution_count": 13,
   "id": "572c48f2-6315-44bf-aa0c-bcec85acafb6",
   "metadata": {},
   "outputs": [
    {
     "name": "stdout",
     "output_type": "stream",
     "text": [
      "Classification Report:\n",
      "               precision    recall  f1-score   support\n",
      "\n",
      "         Cat       0.69      0.68      0.68      2514\n",
      "         Dog       0.68      0.69      0.68      2486\n",
      "\n",
      "    accuracy                           0.68      5000\n",
      "   macro avg       0.68      0.68      0.68      5000\n",
      "weighted avg       0.68      0.68      0.68      5000\n",
      "\n"
     ]
    }
   ],
   "source": [
    "y_pred = best_pipeline.predict(X_test)\n",
    "target_names = ['Cat', 'Dog']\n",
    "classification_rep = classification_report(y_test, y_pred, target_names=target_names)\n",
    "print(\"Classification Report:\\n\", classification_rep)\n",
    "\n",
    "with open(classification_file_path, 'w') as file:\n",
    "    file.write(classification_rep)"
   ]
  },
  {
   "cell_type": "code",
   "execution_count": 14,
   "id": "4ecdf5c9-b60a-4fed-a349-67031ac898a3",
   "metadata": {},
   "outputs": [
    {
     "data": {
      "image/png": "[encoded data removed]",
      "text/plain": [
       "<Figure size 640x480 with 2 Axes>"
      ]
     },
     "metadata": {},
     "output_type": "display_data"
    }
   ],
   "source": [
    "cm = confusion_matrix(y_test, y_pred)\n",
    "sns.heatmap(cm, annot=True, fmt=\"d\", cmap=\"Blues\")\n",
    "plt.xlabel('Predicted labels')\n",
    "plt.ylabel('True labels')\n",
    "plt.savefig(confusion_image_path)\n",
    "plt.show()"
   ]
  },
  {
   "cell_type": "code",
   "execution_count": null,
   "id": "b63c2c8a-2a56-49f5-8ae2-562c5a78e0b3",
   "metadata": {},
   "outputs": [],
   "source": []
  }
 ],
 "metadata": {
  "kernelspec": {
   "display_name": "Python 3 (ipykernel)",
   "language": "python",
   "name": "python3"
  },
  "language_info": {
   "codemirror_mode": {
    "name": "ipython",
    "version": 3
   },
   "file_extension": ".py",
   "mimetype": "text/x-python",
   "name": "python",
   "nbconvert_exporter": "python",
   "pygments_lexer": "ipython3",
   "version": "3.10.12"
  }
 },
 "nbformat": 4,
 "nbformat_minor": 5
}
